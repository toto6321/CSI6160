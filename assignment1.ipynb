{
 "cells": [
  {
   "cell_type": "code",
   "execution_count": 1,
   "metadata": {},
   "outputs": [],
   "source": [
    "import os\n",
    "import pandas as pd\n",
    "import matplotlib as mp\n",
    "import mplfinance as mpf"
   ]
  },
  {
   "cell_type": "code",
   "execution_count": 2,
   "metadata": {},
   "outputs": [
    {
     "data": {
      "text/html": [
       "<div>\n",
       "<style scoped>\n",
       "    .dataframe tbody tr th:only-of-type {\n",
       "        vertical-align: middle;\n",
       "    }\n",
       "\n",
       "    .dataframe tbody tr th {\n",
       "        vertical-align: top;\n",
       "    }\n",
       "\n",
       "    .dataframe thead th {\n",
       "        text-align: right;\n",
       "    }\n",
       "</style>\n",
       "<table border=\"1\" class=\"dataframe\">\n",
       "  <thead>\n",
       "    <tr style=\"text-align: right;\">\n",
       "      <th></th>\n",
       "      <th>Open</th>\n",
       "      <th>High</th>\n",
       "      <th>Low</th>\n",
       "      <th>Close</th>\n",
       "      <th>Volume</th>\n",
       "      <th>Dividend</th>\n",
       "      <th>Split</th>\n",
       "      <th>Adj_Open</th>\n",
       "      <th>Adj_High</th>\n",
       "      <th>Adj_Low</th>\n",
       "      <th>Adj_Close</th>\n",
       "      <th>Adj_Volume</th>\n",
       "    </tr>\n",
       "    <tr>\n",
       "      <th>Date</th>\n",
       "      <th></th>\n",
       "      <th></th>\n",
       "      <th></th>\n",
       "      <th></th>\n",
       "      <th></th>\n",
       "      <th></th>\n",
       "      <th></th>\n",
       "      <th></th>\n",
       "      <th></th>\n",
       "      <th></th>\n",
       "      <th></th>\n",
       "      <th></th>\n",
       "    </tr>\n",
       "  </thead>\n",
       "  <tbody>\n",
       "    <tr>\n",
       "      <th>2017-07-26</th>\n",
       "      <td>247.75</td>\n",
       "      <td>247.79</td>\n",
       "      <td>247.13</td>\n",
       "      <td>247.43</td>\n",
       "      <td>44669097.0</td>\n",
       "      <td>0.0</td>\n",
       "      <td>1.0</td>\n",
       "      <td>247.75</td>\n",
       "      <td>247.79</td>\n",
       "      <td>247.13</td>\n",
       "      <td>247.43</td>\n",
       "      <td>44669097.0</td>\n",
       "    </tr>\n",
       "    <tr>\n",
       "      <th>2017-07-25</th>\n",
       "      <td>247.68</td>\n",
       "      <td>247.80</td>\n",
       "      <td>247.16</td>\n",
       "      <td>247.42</td>\n",
       "      <td>52685280.0</td>\n",
       "      <td>0.0</td>\n",
       "      <td>1.0</td>\n",
       "      <td>247.68</td>\n",
       "      <td>247.80</td>\n",
       "      <td>247.16</td>\n",
       "      <td>247.42</td>\n",
       "      <td>52685280.0</td>\n",
       "    </tr>\n",
       "    <tr>\n",
       "      <th>2017-07-24</th>\n",
       "      <td>246.79</td>\n",
       "      <td>246.98</td>\n",
       "      <td>246.28</td>\n",
       "      <td>246.82</td>\n",
       "      <td>44565029.0</td>\n",
       "      <td>0.0</td>\n",
       "      <td>1.0</td>\n",
       "      <td>246.79</td>\n",
       "      <td>246.98</td>\n",
       "      <td>246.28</td>\n",
       "      <td>246.82</td>\n",
       "      <td>44565029.0</td>\n",
       "    </tr>\n",
       "    <tr>\n",
       "      <th>2017-07-21</th>\n",
       "      <td>246.44</td>\n",
       "      <td>246.91</td>\n",
       "      <td>246.18</td>\n",
       "      <td>246.88</td>\n",
       "      <td>82340759.0</td>\n",
       "      <td>0.0</td>\n",
       "      <td>1.0</td>\n",
       "      <td>246.44</td>\n",
       "      <td>246.91</td>\n",
       "      <td>246.18</td>\n",
       "      <td>246.88</td>\n",
       "      <td>82340759.0</td>\n",
       "    </tr>\n",
       "    <tr>\n",
       "      <th>2017-07-20</th>\n",
       "      <td>247.28</td>\n",
       "      <td>247.42</td>\n",
       "      <td>246.47</td>\n",
       "      <td>247.10</td>\n",
       "      <td>43011325.0</td>\n",
       "      <td>0.0</td>\n",
       "      <td>1.0</td>\n",
       "      <td>247.28</td>\n",
       "      <td>247.42</td>\n",
       "      <td>246.47</td>\n",
       "      <td>247.10</td>\n",
       "      <td>43011325.0</td>\n",
       "    </tr>\n",
       "  </tbody>\n",
       "</table>\n",
       "</div>"
      ],
      "text/plain": [
       "              Open    High     Low   Close      Volume  Dividend  Split  \\\n",
       "Date                                                                      \n",
       "2017-07-26  247.75  247.79  247.13  247.43  44669097.0       0.0    1.0   \n",
       "2017-07-25  247.68  247.80  247.16  247.42  52685280.0       0.0    1.0   \n",
       "2017-07-24  246.79  246.98  246.28  246.82  44565029.0       0.0    1.0   \n",
       "2017-07-21  246.44  246.91  246.18  246.88  82340759.0       0.0    1.0   \n",
       "2017-07-20  247.28  247.42  246.47  247.10  43011325.0       0.0    1.0   \n",
       "\n",
       "            Adj_Open  Adj_High  Adj_Low  Adj_Close  Adj_Volume  \n",
       "Date                                                            \n",
       "2017-07-26    247.75    247.79   247.13     247.43  44669097.0  \n",
       "2017-07-25    247.68    247.80   247.16     247.42  52685280.0  \n",
       "2017-07-24    246.79    246.98   246.28     246.82  44565029.0  \n",
       "2017-07-21    246.44    246.91   246.18     246.88  82340759.0  \n",
       "2017-07-20    247.28    247.42   246.47     247.10  43011325.0  "
      ]
     },
     "execution_count": 2,
     "metadata": {},
     "output_type": "execute_result"
    }
   ],
   "source": [
    "filename = \"SPY.csv\"\n",
    "data = pd.read_csv(filename, index_col=0, parse_dates=True)\n",
    "\n",
    "## show first 5 sample\n",
    "data.head(5)"
   ]
  },
  {
   "cell_type": "code",
   "execution_count": 3,
   "metadata": {},
   "outputs": [
    {
     "data": {
      "image/png": "[encoded data removed]",
      "text/plain": [
       "<Figure size 594x459 with 1 Axes>"
      ]
     },
     "metadata": {},
     "output_type": "display_data"
    }
   ],
   "source": [
    "mpf.plot(data)"
   ]
  },
  {
   "cell_type": "code",
   "execution_count": 4,
   "metadata": {},
   "outputs": [
    {
     "data": {
      "text/html": [
       "<div>\n",
       "<style scoped>\n",
       "    .dataframe tbody tr th:only-of-type {\n",
       "        vertical-align: middle;\n",
       "    }\n",
       "\n",
       "    .dataframe tbody tr th {\n",
       "        vertical-align: top;\n",
       "    }\n",
       "\n",
       "    .dataframe thead th {\n",
       "        text-align: right;\n",
       "    }\n",
       "</style>\n",
       "<table border=\"1\" class=\"dataframe\">\n",
       "  <thead>\n",
       "    <tr style=\"text-align: right;\">\n",
       "      <th></th>\n",
       "      <th>Adj_Open</th>\n",
       "      <th>Adj_High</th>\n",
       "      <th>Adj_Low</th>\n",
       "      <th>Adj_Close</th>\n",
       "    </tr>\n",
       "    <tr>\n",
       "      <th>Date</th>\n",
       "      <th></th>\n",
       "      <th></th>\n",
       "      <th></th>\n",
       "      <th></th>\n",
       "    </tr>\n",
       "  </thead>\n",
       "  <tbody>\n",
       "    <tr>\n",
       "      <th>2017-07-26</th>\n",
       "      <td>247.75</td>\n",
       "      <td>247.79</td>\n",
       "      <td>247.13</td>\n",
       "      <td>247.43</td>\n",
       "    </tr>\n",
       "    <tr>\n",
       "      <th>2017-07-25</th>\n",
       "      <td>247.68</td>\n",
       "      <td>247.80</td>\n",
       "      <td>247.16</td>\n",
       "      <td>247.42</td>\n",
       "    </tr>\n",
       "    <tr>\n",
       "      <th>2017-07-24</th>\n",
       "      <td>246.79</td>\n",
       "      <td>246.98</td>\n",
       "      <td>246.28</td>\n",
       "      <td>246.82</td>\n",
       "    </tr>\n",
       "  </tbody>\n",
       "</table>\n",
       "</div>"
      ],
      "text/plain": [
       "            Adj_Open  Adj_High  Adj_Low  Adj_Close\n",
       "Date                                              \n",
       "2017-07-26    247.75    247.79   247.13     247.43\n",
       "2017-07-25    247.68    247.80   247.16     247.42\n",
       "2017-07-24    246.79    246.98   246.28     246.82"
      ]
     },
     "execution_count": 4,
     "metadata": {},
     "output_type": "execute_result"
    }
   ],
   "source": [
    "## use adjusted value only\n",
    "d = data.loc[:, ['Adj_Open', 'Adj_High', 'Adj_Low', 'Adj_Close']]\n",
    "d.head(3)"
   ]
  },
  {
   "cell_type": "code",
   "execution_count": 5,
   "metadata": {},
   "outputs": [
    {
     "data": {
      "text/html": [
       "<div>\n",
       "<style scoped>\n",
       "    .dataframe tbody tr th:only-of-type {\n",
       "        vertical-align: middle;\n",
       "    }\n",
       "\n",
       "    .dataframe tbody tr th {\n",
       "        vertical-align: top;\n",
       "    }\n",
       "\n",
       "    .dataframe thead th {\n",
       "        text-align: right;\n",
       "    }\n",
       "</style>\n",
       "<table border=\"1\" class=\"dataframe\">\n",
       "  <thead>\n",
       "    <tr style=\"text-align: right;\">\n",
       "      <th></th>\n",
       "      <th>Open</th>\n",
       "      <th>High</th>\n",
       "      <th>Low</th>\n",
       "      <th>Close</th>\n",
       "    </tr>\n",
       "    <tr>\n",
       "      <th>Date</th>\n",
       "      <th></th>\n",
       "      <th></th>\n",
       "      <th></th>\n",
       "      <th></th>\n",
       "    </tr>\n",
       "  </thead>\n",
       "  <tbody>\n",
       "    <tr>\n",
       "      <th>2017-07-26</th>\n",
       "      <td>247.75</td>\n",
       "      <td>247.79</td>\n",
       "      <td>247.13</td>\n",
       "      <td>247.43</td>\n",
       "    </tr>\n",
       "    <tr>\n",
       "      <th>2017-07-25</th>\n",
       "      <td>247.68</td>\n",
       "      <td>247.80</td>\n",
       "      <td>247.16</td>\n",
       "      <td>247.42</td>\n",
       "    </tr>\n",
       "    <tr>\n",
       "      <th>2017-07-24</th>\n",
       "      <td>246.79</td>\n",
       "      <td>246.98</td>\n",
       "      <td>246.28</td>\n",
       "      <td>246.82</td>\n",
       "    </tr>\n",
       "  </tbody>\n",
       "</table>\n",
       "</div>"
      ],
      "text/plain": [
       "              Open    High     Low   Close\n",
       "Date                                      \n",
       "2017-07-26  247.75  247.79  247.13  247.43\n",
       "2017-07-25  247.68  247.80  247.16  247.42\n",
       "2017-07-24  246.79  246.98  246.28  246.82"
      ]
     },
     "execution_count": 5,
     "metadata": {},
     "output_type": "execute_result"
    }
   ],
   "source": [
    "data = d.rename(columns={'Adj_Open':'Open', 'Adj_High':'High', 'Adj_Low':'Low', 'Adj_Close':'Close'})\n",
    "data.head(3)"
   ]
  },
  {
   "cell_type": "code",
   "execution_count": 6,
   "metadata": {},
   "outputs": [
    {
     "data": {
      "image/png": "[encoded data removed]",
      "text/plain": [
       "<Figure size 594x459 with 1 Axes>"
      ]
     },
     "metadata": {},
     "output_type": "display_data"
    }
   ],
   "source": [
    "mpf.plot(data[0:10])"
   ]
  },
  {
   "cell_type": "code",
   "execution_count": 7,
   "metadata": {},
   "outputs": [
    {
     "data": {
      "image/png": "[encoded data removed]",
      "text/plain": [
       "<Figure size 594x459 with 1 Axes>"
      ]
     },
     "metadata": {},
     "output_type": "display_data"
    }
   ],
   "source": [
    "mpf.plot(data[10:0:-1], type='candle')"
   ]
  },
  {
   "cell_type": "code",
   "execution_count": 8,
   "metadata": {
    "scrolled": true
   },
   "outputs": [
    {
     "data": {
      "text/html": [
       "<div>\n",
       "<style scoped>\n",
       "    .dataframe tbody tr th:only-of-type {\n",
       "        vertical-align: middle;\n",
       "    }\n",
       "\n",
       "    .dataframe tbody tr th {\n",
       "        vertical-align: top;\n",
       "    }\n",
       "\n",
       "    .dataframe thead th {\n",
       "        text-align: right;\n",
       "    }\n",
       "</style>\n",
       "<table border=\"1\" class=\"dataframe\">\n",
       "  <thead>\n",
       "    <tr style=\"text-align: right;\">\n",
       "      <th></th>\n",
       "      <th>Open</th>\n",
       "      <th>High</th>\n",
       "      <th>Low</th>\n",
       "      <th>Close</th>\n",
       "    </tr>\n",
       "    <tr>\n",
       "      <th>Date</th>\n",
       "      <th></th>\n",
       "      <th></th>\n",
       "      <th></th>\n",
       "      <th></th>\n",
       "    </tr>\n",
       "  </thead>\n",
       "  <tbody>\n",
       "    <tr>\n",
       "      <th>1993-01-29</th>\n",
       "      <td>27.465904</td>\n",
       "      <td>27.465904</td>\n",
       "      <td>27.328481</td>\n",
       "      <td>27.447165</td>\n",
       "    </tr>\n",
       "    <tr>\n",
       "      <th>1993-02-01</th>\n",
       "      <td>27.468630</td>\n",
       "      <td>27.643550</td>\n",
       "      <td>27.468630</td>\n",
       "      <td>27.643550</td>\n",
       "    </tr>\n",
       "    <tr>\n",
       "      <th>1993-02-02</th>\n",
       "      <td>27.624695</td>\n",
       "      <td>27.724648</td>\n",
       "      <td>27.568471</td>\n",
       "      <td>27.699660</td>\n",
       "    </tr>\n",
       "    <tr>\n",
       "      <th>1993-02-03</th>\n",
       "      <td>27.748979</td>\n",
       "      <td>28.017659</td>\n",
       "      <td>27.730234</td>\n",
       "      <td>27.998914</td>\n",
       "    </tr>\n",
       "    <tr>\n",
       "      <th>1993-02-04</th>\n",
       "      <td>28.092393</td>\n",
       "      <td>28.167356</td>\n",
       "      <td>28.036171</td>\n",
       "      <td>28.111134</td>\n",
       "    </tr>\n",
       "  </tbody>\n",
       "</table>\n",
       "</div>"
      ],
      "text/plain": [
       "                 Open       High        Low      Close\n",
       "Date                                                  \n",
       "1993-01-29  27.465904  27.465904  27.328481  27.447165\n",
       "1993-02-01  27.468630  27.643550  27.468630  27.643550\n",
       "1993-02-02  27.624695  27.724648  27.568471  27.699660\n",
       "1993-02-03  27.748979  28.017659  27.730234  27.998914\n",
       "1993-02-04  28.092393  28.167356  28.036171  28.111134"
      ]
     },
     "execution_count": 8,
     "metadata": {},
     "output_type": "execute_result"
    }
   ],
   "source": [
    "data=data[::-1].copy()\n",
    "data.head(5)"
   ]
  },
  {
   "cell_type": "code",
   "execution_count": 9,
   "metadata": {
    "scrolled": true
   },
   "outputs": [
    {
     "data": {
      "image/png": "[encoded data removed]",
      "text/plain": [
       "<Figure size 594x459 with 1 Axes>"
      ]
     },
     "metadata": {},
     "output_type": "display_data"
    }
   ],
   "source": [
    "mpf.plot(data[0:10], type='candle')"
   ]
  },
  {
   "cell_type": "code",
   "execution_count": 11,
   "metadata": {},
   "outputs": [
    {
     "data": {
      "text/plain": [
       "27.46590429"
      ]
     },
     "execution_count": 11,
     "metadata": {},
     "output_type": "execute_result"
    }
   ],
   "source": [
    "def get_cell_from_DF(df, row_index, column_index):\n",
    "    return df.iloc[row_index, column_index]\n",
    "\n",
    "# test function\n",
    "get_cell_from_DF(data, 0, 0)"
   ]
  },
  {
   "cell_type": "markdown",
   "metadata": {},
   "source": [
    "### Analysis of the pattern\n",
    "The search/match result is really dependent on how you interpret the pattern. \n",
    "* Is it a quantitative or qualitative pattern?\n",
    "* Simple quantitative or complex quantitative?\n",
    "* correlation?\n",
    "\n",
    "Base on questions above, I divide it into serveral levels:\n",
    "1. Only consider qualitative portraits for each candle \n",
    "  * close>open?\n",
    "  \n",
    "2. Consider simple quantitative portraits for each candle with high/low \n",
    "  * close>open?\n",
    "  * high/low>open/close?\n",
    "  \n",
    "3. Consider simple qualitative portraits for each candle and their simple quantitative relationships (only adjacent open/close\n",
    "  * close>open?\n",
    "  * high/low>open/close?\n",
    "  * first.open/close ? second.open/close, second.open/close ? third.open/close\n",
    "  \n",
    "4. Consider simple quantitative portraits for each candle and their simple quantitative relationships (only adjacent open/close/high/low)\n",
    "  * close>open?\n",
    "  * high/low>open/close?\n",
    "  * first.open/close ? second.open/close, second.open/close ? third.open/close\n",
    "  * first.high/low ? second.high/low, second.high/low ? third.high/low\n",
    "  \n",
    "5. Consider simple quantitative portraits for each candle and their simple quantitative relationships (interrelation open/close/high/low)\n",
    "  * close>open?\n",
    "  * high/low>open/close?\n",
    "  * first.open/close ? second.open/close, second.open/close ? third.open/close\n",
    "  * first.high/low ? second.high/low, second.high/low ? third.high/low\n",
    "  * ...\n",
    "  "
   ]
  },
  {
   "cell_type": "code",
   "execution_count": 13,
   "metadata": {},
   "outputs": [],
   "source": [
    "def match_pattern(df, i1, i2, i3, level=1):\n",
    "    # returned value\n",
    "    is_matched = False\n",
    "    \n",
    "    # level=1\n",
    "    \n",
    "    ## first candle\n",
    "    ### close < open\n",
    "    is_matched = True if get_cell_from_DF(df, i1, 3) < get_cell_from_DF(df, i1, 0) else False\n",
    "   \n",
    "    ## second candle\n",
    "    ### close > open\n",
    "    is_matched = True if get_cell_from_DF(df, i2, 3) > get_cell_from_DF(df, i2, 0) else False\n",
    "    \n",
    "    ## third candle\n",
    "    ### close > open\n",
    "    is_matched = is_matched if get_cell_from_DF(df, i3, 3) > get_cell_from_DF(df, i3, 0) else False\n",
    "    \n",
    "    # level=2\n",
    "    if level>=2:\n",
    "        \n",
    "        ## first candle\n",
    "        ### close = low\n",
    "        is_matched = is_matched if get_cell_from_DF(df, i1, 3) == get_cell_from_DF(df, i1, 2) else False\n",
    "        ### open  < high\n",
    "        is_matched = is_matched if get_cell_from_DF(df, i1, 0) < get_cell_from_DF(df, i1, 1) else False\n",
    "\n",
    "        ## second candle\n",
    "        ### open > low\n",
    "        is_matched = is_matched if get_cell_from_DF(df, i2, 0) > get_cell_from_DF(df, i2, 2) else False\n",
    "        ### close < high\n",
    "        is_matched = is_matched if get_cell_from_DF(df, i2, 3) < get_cell_from_DF(df, i2, 1) else False\n",
    "\n",
    "        ## third candle\n",
    "        ### open > low\n",
    "        is_matched = is_matched if get_cell_from_DF(df, i3, 0) > get_cell_from_DF(df, i3, 2) else False\n",
    "        #3# close = high \n",
    "        is_matched = is_matched if get_cell_from_DF(df, i3, 3) == get_cell_from_DF(df, i3, 1) else False\n",
    "    \n",
    "    # level=3\n",
    "    if level>=3:\n",
    "        ## second.close < first.close\n",
    "        is_matched = is_matched if get_cell_from_DF(df, i2, 3) < get_cell_from_DF(df, i1, 3) else False\n",
    "        ## second.close < third.open\n",
    "        is_matched = is_matched if get_cell_from_DF(df, i2, 3) < get_cell_from_DF(df, i3, 0) else False\n",
    "        \n",
    "    # level>=4\n",
    "    if level>=4:\n",
    "        pass\n",
    "    \n",
    "    return is_matched\n",
    "\n"
   ]
  },
  {
   "cell_type": "code",
   "execution_count": 14,
   "metadata": {},
   "outputs": [
    {
     "data": {
      "text/html": [
       "<div>\n",
       "<style scoped>\n",
       "    .dataframe tbody tr th:only-of-type {\n",
       "        vertical-align: middle;\n",
       "    }\n",
       "\n",
       "    .dataframe tbody tr th {\n",
       "        vertical-align: top;\n",
       "    }\n",
       "\n",
       "    .dataframe thead th {\n",
       "        text-align: right;\n",
       "    }\n",
       "</style>\n",
       "<table border=\"1\" class=\"dataframe\">\n",
       "  <thead>\n",
       "    <tr style=\"text-align: right;\">\n",
       "      <th></th>\n",
       "      <th>Open</th>\n",
       "      <th>High</th>\n",
       "      <th>Low</th>\n",
       "      <th>Close</th>\n",
       "    </tr>\n",
       "    <tr>\n",
       "      <th>Date</th>\n",
       "      <th></th>\n",
       "      <th></th>\n",
       "      <th></th>\n",
       "      <th></th>\n",
       "    </tr>\n",
       "  </thead>\n",
       "  <tbody>\n",
       "    <tr>\n",
       "      <th>1993-01-29</th>\n",
       "      <td>27.465904</td>\n",
       "      <td>27.465904</td>\n",
       "      <td>27.328481</td>\n",
       "      <td>27.447165</td>\n",
       "    </tr>\n",
       "    <tr>\n",
       "      <th>1993-02-01</th>\n",
       "      <td>27.468630</td>\n",
       "      <td>27.643550</td>\n",
       "      <td>27.468630</td>\n",
       "      <td>27.643550</td>\n",
       "    </tr>\n",
       "    <tr>\n",
       "      <th>1993-02-02</th>\n",
       "      <td>27.624695</td>\n",
       "      <td>27.724648</td>\n",
       "      <td>27.568471</td>\n",
       "      <td>27.699660</td>\n",
       "    </tr>\n",
       "    <tr>\n",
       "      <th>1993-02-03</th>\n",
       "      <td>27.748979</td>\n",
       "      <td>28.017659</td>\n",
       "      <td>27.730234</td>\n",
       "      <td>27.998914</td>\n",
       "    </tr>\n",
       "  </tbody>\n",
       "</table>\n",
       "</div>"
      ],
      "text/plain": [
       "                 Open       High        Low      Close\n",
       "Date                                                  \n",
       "1993-01-29  27.465904  27.465904  27.328481  27.447165\n",
       "1993-02-01  27.468630  27.643550  27.468630  27.643550\n",
       "1993-02-02  27.624695  27.724648  27.568471  27.699660\n",
       "1993-02-03  27.748979  28.017659  27.730234  27.998914"
      ]
     },
     "execution_count": 14,
     "metadata": {},
     "output_type": "execute_result"
    }
   ],
   "source": [
    "# test function match_pattern()\n",
    "data.head(4)"
   ]
  },
  {
   "cell_type": "code",
   "execution_count": 16,
   "metadata": {},
   "outputs": [
    {
     "data": {
      "text/plain": [
       "True"
      ]
     },
     "execution_count": 16,
     "metadata": {},
     "output_type": "execute_result"
    }
   ],
   "source": [
    "match_pattern(data, 0,1,2)"
   ]
  },
  {
   "cell_type": "code",
   "execution_count": 17,
   "metadata": {},
   "outputs": [
    {
     "data": {
      "image/png": "[encoded data removed]",
      "text/plain": [
       "<Figure size 594x459 with 1 Axes>"
      ]
     },
     "metadata": {},
     "output_type": "display_data"
    }
   ],
   "source": [
    "mpf.plot(data[0:3], type=\"candle\")"
   ]
  },
  {
   "cell_type": "code",
   "execution_count": 18,
   "metadata": {},
   "outputs": [
    {
     "data": {
      "text/plain": [
       "False"
      ]
     },
     "execution_count": 18,
     "metadata": {},
     "output_type": "execute_result"
    }
   ],
   "source": [
    "match_pattern(data, 0,1,2, level=2)"
   ]
  },
  {
   "cell_type": "code",
   "execution_count": null,
   "metadata": {},
   "outputs": [],
   "source": []
  }
 ],
 "metadata": {
  "kernelspec": {
   "display_name": "Python 3.7.6 64-bit ('miniconda3': virtualenv)",
   "language": "python",
   "name": "python37664bitminiconda3virtualenv155f4ab4d9fb4406bc4c3834bf335d7f"
  },
  "language_info": {
   "codemirror_mode": {
    "name": "ipython",
    "version": 3
   },
   "file_extension": ".py",
   "mimetype": "text/x-python",
   "name": "python",
   "nbconvert_exporter": "python",
   "pygments_lexer": "ipython3",
   "version": "3.7.6"
  }
 },
 "nbformat": 4,
 "nbformat_minor": 2
}
