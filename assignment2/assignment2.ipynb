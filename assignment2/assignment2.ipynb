{
 "cells": [
  {
   "cell_type": "markdown",
   "metadata": {},
   "source": [
    "## Problem\n",
    "\n",
    "> In this assignment, you will apply data exploration techniques learned in last two classes on iris data (included below). Through various statistics and visualization techniques, we can learn a lot about characteristics of data, individual features and its effectiveness for machine learning. You can evaluate this by individual features, joint features and class labels applied. Your report shall include -\n",
    "> \n",
    "> 1. Analysis performed (statistical / visualization)\n",
    "> 2. Your understanding and evaluation regarding analysed data\n",
    "> \n",
    "> At minimum, you will apply at least 5 different kinds of analysis / visualization techniques.\n",
    "\n",
    "[iris.csv](iris.csv)"
   ]
  },
  {
   "cell_type": "code",
   "execution_count": null,
   "metadata": {},
   "outputs": [],
   "source": []
  }
 ],
 "metadata": {
  "kernelspec": {
   "display_name": "Python 3",
   "language": "python",
   "name": "python3"
  },
  "language_info": {
   "codemirror_mode": {
    "name": "ipython",
    "version": 3
   },
   "file_extension": ".py",
   "mimetype": "text/x-python",
   "name": "python",
   "nbconvert_exporter": "python",
   "pygments_lexer": "ipython3",
   "version": "3.7.6"
  }
 },
 "nbformat": 4,
 "nbformat_minor": 2
}
